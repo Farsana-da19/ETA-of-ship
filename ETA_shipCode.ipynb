{
  "nbformat": 4,
  "nbformat_minor": 0,
  "metadata": {
    "language_info": {
      "codemirror_mode": {
        "name": "ipython",
        "version": 3
      },
      "file_extension": ".py",
      "mimetype": "text/x-python",
      "name": "python",
      "nbconvert_exporter": "python",
      "pygments_lexer": "ipython3",
      "version": "3.7.7"
    },
    "orig_nbformat": 2,
    "kernelspec": {
      "name": "python377jvsc74a57bd0e0e405151264f9e7388c4732494e8383e5b4a1f5ca41dc64326dde92166cb449",
      "display_name": "Python 3.7.7 64-bit ('pythonDS': conda)"
    },
    "colab": {
      "name": "ETA_shipCode(final).ipynb",
      "provenance": []
    }
  },
  "cells": [
    {
      "cell_type": "code",
      "metadata": {
        "colab": {
          "base_uri": "https://localhost:8080/"
        },
        "id": "Fwd-gILqQiqJ",
        "outputId": "c3330fda-bda4-4536-9934-1997dd0644ec"
      },
      "source": [
        "from google.colab import drive\n",
        "drive.mount('/content/drive')"
      ],
      "execution_count": null,
      "outputs": [
        {
          "output_type": "stream",
          "text": [
            "Drive already mounted at /content/drive; to attempt to forcibly remount, call drive.mount(\"/content/drive\", force_remount=True).\n"
          ],
          "name": "stdout"
        }
      ]
    },
    {
      "cell_type": "code",
      "metadata": {
        "id": "Y1e1GAJ1Sc-w"
      },
      "source": [
        ""
      ],
      "execution_count": null,
      "outputs": []
    },
    {
      "cell_type": "code",
      "metadata": {
        "id": "oHi4cSSZVuY7"
      },
      "source": [
        "import pandas as pd\n",
        "import numpy as np"
      ],
      "execution_count": null,
      "outputs": []
    },
    {
      "cell_type": "code",
      "metadata": {
        "id": "R5XOzn3KVuY_"
      },
      "source": [
        "df = pd.read_csv('/content/drive/MyDrive/debs challenge/1000rowspublic_fixed.csv')"
      ],
      "execution_count": null,
      "outputs": []
    },
    {
      "cell_type": "code",
      "metadata": {
        "id": "pry-ur4BVuZC",
        "colab": {
          "base_uri": "https://localhost:8080/",
          "height": 234
        },
        "outputId": "64606a47-3439-421b-8e4b-96b805692d59"
      },
      "source": [
        "df.head(6)"
      ],
      "execution_count": null,
      "outputs": [
        {
          "output_type": "execute_result",
          "data": {
            "text/html": [
              "<div>\n",
              "<style scoped>\n",
              "    .dataframe tbody tr th:only-of-type {\n",
              "        vertical-align: middle;\n",
              "    }\n",
              "\n",
              "    .dataframe tbody tr th {\n",
              "        vertical-align: top;\n",
              "    }\n",
              "\n",
              "    .dataframe thead th {\n",
              "        text-align: right;\n",
              "    }\n",
              "</style>\n",
              "<table border=\"1\" class=\"dataframe\">\n",
              "  <thead>\n",
              "    <tr style=\"text-align: right;\">\n",
              "      <th></th>\n",
              "      <th>SHIP_ID</th>\n",
              "      <th>SPEED</th>\n",
              "      <th>LON</th>\n",
              "      <th>LAT</th>\n",
              "      <th>COURSE</th>\n",
              "      <th>HEADING</th>\n",
              "      <th>TIMESTAMP</th>\n",
              "      <th>Departure_Port_Name</th>\n",
              "      <th>Reported_Draught</th>\n",
              "    </tr>\n",
              "  </thead>\n",
              "  <tbody>\n",
              "    <tr>\n",
              "      <th>0</th>\n",
              "      <td>0x3b62baab6210a8e69d3e7f9df53d000c83d00fd0</td>\n",
              "      <td>2</td>\n",
              "      <td>15.24722</td>\n",
              "      <td>37.28777</td>\n",
              "      <td>163</td>\n",
              "      <td>511</td>\n",
              "      <td>01-06-15 0:00</td>\n",
              "      <td>AUGUSTA</td>\n",
              "      <td>NaN</td>\n",
              "    </tr>\n",
              "    <tr>\n",
              "      <th>1</th>\n",
              "      <td>0x0fe9acdb3675a8a2942fafbd4af61bc37e44c0ec</td>\n",
              "      <td>146</td>\n",
              "      <td>23.69491</td>\n",
              "      <td>37.31362</td>\n",
              "      <td>13</td>\n",
              "      <td>15</td>\n",
              "      <td>01-06-15 0:00</td>\n",
              "      <td>SALERNO</td>\n",
              "      <td>88.0</td>\n",
              "    </tr>\n",
              "    <tr>\n",
              "      <th>2</th>\n",
              "      <td>0xb35dc6acdc29f2241296c44384fa2b0f7044d257</td>\n",
              "      <td>20</td>\n",
              "      <td>15.66992</td>\n",
              "      <td>38.38774</td>\n",
              "      <td>339</td>\n",
              "      <td>339</td>\n",
              "      <td>01-06-15 0:00</td>\n",
              "      <td>MESSINA</td>\n",
              "      <td>66.0</td>\n",
              "    </tr>\n",
              "    <tr>\n",
              "      <th>3</th>\n",
              "      <td>0x9c2f4a52cefcef0b47d4caa7b809e89ee5825e39</td>\n",
              "      <td>0</td>\n",
              "      <td>10.32285</td>\n",
              "      <td>42.81108</td>\n",
              "      <td>72</td>\n",
              "      <td>301</td>\n",
              "      <td>01-06-15 0:00</td>\n",
              "      <td>PORTO FERRAIO</td>\n",
              "      <td>NaN</td>\n",
              "    </tr>\n",
              "    <tr>\n",
              "      <th>4</th>\n",
              "      <td>0x8bf0e9618067d23eec5eea61d274af4b13fee7f9</td>\n",
              "      <td>197</td>\n",
              "      <td>24.48908</td>\n",
              "      <td>36.19387</td>\n",
              "      <td>146</td>\n",
              "      <td>511</td>\n",
              "      <td>01-06-15 0:01</td>\n",
              "      <td>PIRAEUS</td>\n",
              "      <td>NaN</td>\n",
              "    </tr>\n",
              "    <tr>\n",
              "      <th>5</th>\n",
              "      <td>0x1618b2bca3eb2fd6338f5456f03e02e7dbd3c9bd</td>\n",
              "      <td>95</td>\n",
              "      <td>27.46395</td>\n",
              "      <td>36.63268</td>\n",
              "      <td>113</td>\n",
              "      <td>511</td>\n",
              "      <td>01-06-15 0:01</td>\n",
              "      <td>ALIAGA</td>\n",
              "      <td>56.0</td>\n",
              "    </tr>\n",
              "  </tbody>\n",
              "</table>\n",
              "</div>"
            ],
            "text/plain": [
              "                                      SHIP_ID  ...  Reported_Draught\n",
              "0  0x3b62baab6210a8e69d3e7f9df53d000c83d00fd0  ...               NaN\n",
              "1  0x0fe9acdb3675a8a2942fafbd4af61bc37e44c0ec  ...              88.0\n",
              "2  0xb35dc6acdc29f2241296c44384fa2b0f7044d257  ...              66.0\n",
              "3  0x9c2f4a52cefcef0b47d4caa7b809e89ee5825e39  ...               NaN\n",
              "4  0x8bf0e9618067d23eec5eea61d274af4b13fee7f9  ...               NaN\n",
              "5  0x1618b2bca3eb2fd6338f5456f03e02e7dbd3c9bd  ...              56.0\n",
              "\n",
              "[6 rows x 9 columns]"
            ]
          },
          "metadata": {
            "tags": []
          },
          "execution_count": 4
        }
      ]
    },
    {
      "cell_type": "code",
      "metadata": {
        "colab": {
          "base_uri": "https://localhost:8080/"
        },
        "id": "R09uvcbwqiij",
        "outputId": "6bd0340d-14eb-4406-b886-2075ab09dff3"
      },
      "source": [
        "df.info()"
      ],
      "execution_count": null,
      "outputs": [
        {
          "output_type": "stream",
          "text": [
            "<class 'pandas.core.frame.DataFrame'>\n",
            "RangeIndex: 1000 entries, 0 to 999\n",
            "Data columns (total 9 columns):\n",
            " #   Column               Non-Null Count  Dtype  \n",
            "---  ------               --------------  -----  \n",
            " 0   SHIP_ID              1000 non-null   object \n",
            " 1   SPEED                1000 non-null   int64  \n",
            " 2   LON                  1000 non-null   float64\n",
            " 3   LAT                  1000 non-null   float64\n",
            " 4   COURSE               1000 non-null   int64  \n",
            " 5   HEADING              1000 non-null   int64  \n",
            " 6   TIMESTAMP            1000 non-null   object \n",
            " 7   Departure_Port_Name  1000 non-null   object \n",
            " 8   Reported_Draught     386 non-null    float64\n",
            "dtypes: float64(3), int64(3), object(3)\n",
            "memory usage: 70.4+ KB\n"
          ],
          "name": "stdout"
        }
      ]
    },
    {
      "cell_type": "code",
      "metadata": {
        "colab": {
          "base_uri": "https://localhost:8080/"
        },
        "id": "PvlhKsQ0tBQz",
        "outputId": "0e8864a9-3a4c-4ac3-a313-e8276b4a6a20"
      },
      "source": [
        "#unique values\n",
        "print(\"Ships :\", df['SHIP_ID'].nunique())\n",
        "print(\"departure port :\",df['Departure_Port_Name'].nunique())"
      ],
      "execution_count": null,
      "outputs": [
        {
          "output_type": "stream",
          "text": [
            "Ships : 51\n",
            "departure port : 15\n"
          ],
          "name": "stdout"
        }
      ]
    },
    {
      "cell_type": "code",
      "metadata": {
        "colab": {
          "base_uri": "https://localhost:8080/",
          "height": 203
        },
        "id": "hUo_UczBt5mk",
        "outputId": "fa2e9052-2b73-43bc-c5ad-57949bcd18ff"
      },
      "source": [
        "df=df.drop(\"Reported_Draught\",axis=1)\n",
        "df.head(5)"
      ],
      "execution_count": null,
      "outputs": [
        {
          "output_type": "execute_result",
          "data": {
            "text/html": [
              "<div>\n",
              "<style scoped>\n",
              "    .dataframe tbody tr th:only-of-type {\n",
              "        vertical-align: middle;\n",
              "    }\n",
              "\n",
              "    .dataframe tbody tr th {\n",
              "        vertical-align: top;\n",
              "    }\n",
              "\n",
              "    .dataframe thead th {\n",
              "        text-align: right;\n",
              "    }\n",
              "</style>\n",
              "<table border=\"1\" class=\"dataframe\">\n",
              "  <thead>\n",
              "    <tr style=\"text-align: right;\">\n",
              "      <th></th>\n",
              "      <th>SHIP_ID</th>\n",
              "      <th>SPEED</th>\n",
              "      <th>LON</th>\n",
              "      <th>LAT</th>\n",
              "      <th>COURSE</th>\n",
              "      <th>HEADING</th>\n",
              "      <th>TIMESTAMP</th>\n",
              "      <th>Departure_Port_Name</th>\n",
              "    </tr>\n",
              "  </thead>\n",
              "  <tbody>\n",
              "    <tr>\n",
              "      <th>0</th>\n",
              "      <td>0x3b62baab6210a8e69d3e7f9df53d000c83d00fd0</td>\n",
              "      <td>2</td>\n",
              "      <td>15.24722</td>\n",
              "      <td>37.28777</td>\n",
              "      <td>163</td>\n",
              "      <td>511</td>\n",
              "      <td>01-06-15 0:00</td>\n",
              "      <td>AUGUSTA</td>\n",
              "    </tr>\n",
              "    <tr>\n",
              "      <th>1</th>\n",
              "      <td>0x0fe9acdb3675a8a2942fafbd4af61bc37e44c0ec</td>\n",
              "      <td>146</td>\n",
              "      <td>23.69491</td>\n",
              "      <td>37.31362</td>\n",
              "      <td>13</td>\n",
              "      <td>15</td>\n",
              "      <td>01-06-15 0:00</td>\n",
              "      <td>SALERNO</td>\n",
              "    </tr>\n",
              "    <tr>\n",
              "      <th>2</th>\n",
              "      <td>0xb35dc6acdc29f2241296c44384fa2b0f7044d257</td>\n",
              "      <td>20</td>\n",
              "      <td>15.66992</td>\n",
              "      <td>38.38774</td>\n",
              "      <td>339</td>\n",
              "      <td>339</td>\n",
              "      <td>01-06-15 0:00</td>\n",
              "      <td>MESSINA</td>\n",
              "    </tr>\n",
              "    <tr>\n",
              "      <th>3</th>\n",
              "      <td>0x9c2f4a52cefcef0b47d4caa7b809e89ee5825e39</td>\n",
              "      <td>0</td>\n",
              "      <td>10.32285</td>\n",
              "      <td>42.81108</td>\n",
              "      <td>72</td>\n",
              "      <td>301</td>\n",
              "      <td>01-06-15 0:00</td>\n",
              "      <td>PORTO FERRAIO</td>\n",
              "    </tr>\n",
              "    <tr>\n",
              "      <th>4</th>\n",
              "      <td>0x8bf0e9618067d23eec5eea61d274af4b13fee7f9</td>\n",
              "      <td>197</td>\n",
              "      <td>24.48908</td>\n",
              "      <td>36.19387</td>\n",
              "      <td>146</td>\n",
              "      <td>511</td>\n",
              "      <td>01-06-15 0:01</td>\n",
              "      <td>PIRAEUS</td>\n",
              "    </tr>\n",
              "  </tbody>\n",
              "</table>\n",
              "</div>"
            ],
            "text/plain": [
              "                                      SHIP_ID  ...  Departure_Port_Name\n",
              "0  0x3b62baab6210a8e69d3e7f9df53d000c83d00fd0  ...              AUGUSTA\n",
              "1  0x0fe9acdb3675a8a2942fafbd4af61bc37e44c0ec  ...              SALERNO\n",
              "2  0xb35dc6acdc29f2241296c44384fa2b0f7044d257  ...              MESSINA\n",
              "3  0x9c2f4a52cefcef0b47d4caa7b809e89ee5825e39  ...        PORTO FERRAIO\n",
              "4  0x8bf0e9618067d23eec5eea61d274af4b13fee7f9  ...              PIRAEUS\n",
              "\n",
              "[5 rows x 8 columns]"
            ]
          },
          "metadata": {
            "tags": []
          },
          "execution_count": 7
        }
      ]
    },
    {
      "cell_type": "code",
      "metadata": {
        "id": "TikMpC4YVuZF"
      },
      "source": [
        "df['time'] = pd.to_datetime(df['TIMESTAMP'])\n"
      ],
      "execution_count": null,
      "outputs": []
    },
    {
      "cell_type": "code",
      "metadata": {
        "id": "RWXnZTqQVuZF",
        "colab": {
          "base_uri": "https://localhost:8080/",
          "height": 417
        },
        "outputId": "bf8052e2-a737-4265-a9c5-06b65448270c"
      },
      "source": [
        "x = df[df['SHIP_ID']== df.SHIP_ID[0]]\n",
        "x"
      ],
      "execution_count": null,
      "outputs": [
        {
          "output_type": "execute_result",
          "data": {
            "text/html": [
              "<div>\n",
              "<style scoped>\n",
              "    .dataframe tbody tr th:only-of-type {\n",
              "        vertical-align: middle;\n",
              "    }\n",
              "\n",
              "    .dataframe tbody tr th {\n",
              "        vertical-align: top;\n",
              "    }\n",
              "\n",
              "    .dataframe thead th {\n",
              "        text-align: right;\n",
              "    }\n",
              "</style>\n",
              "<table border=\"1\" class=\"dataframe\">\n",
              "  <thead>\n",
              "    <tr style=\"text-align: right;\">\n",
              "      <th></th>\n",
              "      <th>SHIP_ID</th>\n",
              "      <th>SPEED</th>\n",
              "      <th>LON</th>\n",
              "      <th>LAT</th>\n",
              "      <th>COURSE</th>\n",
              "      <th>HEADING</th>\n",
              "      <th>TIMESTAMP</th>\n",
              "      <th>Departure_Port_Name</th>\n",
              "      <th>time</th>\n",
              "    </tr>\n",
              "  </thead>\n",
              "  <tbody>\n",
              "    <tr>\n",
              "      <th>0</th>\n",
              "      <td>0x3b62baab6210a8e69d3e7f9df53d000c83d00fd0</td>\n",
              "      <td>2</td>\n",
              "      <td>15.24722</td>\n",
              "      <td>37.28777</td>\n",
              "      <td>163</td>\n",
              "      <td>511</td>\n",
              "      <td>01-06-15 0:00</td>\n",
              "      <td>AUGUSTA</td>\n",
              "      <td>2015-01-06 00:00:00</td>\n",
              "    </tr>\n",
              "    <tr>\n",
              "      <th>9</th>\n",
              "      <td>0x3b62baab6210a8e69d3e7f9df53d000c83d00fd0</td>\n",
              "      <td>1</td>\n",
              "      <td>15.24808</td>\n",
              "      <td>37.28734</td>\n",
              "      <td>72</td>\n",
              "      <td>511</td>\n",
              "      <td>01-06-15 0:02</td>\n",
              "      <td>AUGUSTA</td>\n",
              "      <td>2015-01-06 00:02:00</td>\n",
              "    </tr>\n",
              "    <tr>\n",
              "      <th>17</th>\n",
              "      <td>0x3b62baab6210a8e69d3e7f9df53d000c83d00fd0</td>\n",
              "      <td>4</td>\n",
              "      <td>15.24819</td>\n",
              "      <td>37.28753</td>\n",
              "      <td>329</td>\n",
              "      <td>511</td>\n",
              "      <td>01-06-15 0:04</td>\n",
              "      <td>AUGUSTA</td>\n",
              "      <td>2015-01-06 00:04:00</td>\n",
              "    </tr>\n",
              "    <tr>\n",
              "      <th>22</th>\n",
              "      <td>0x3b62baab6210a8e69d3e7f9df53d000c83d00fd0</td>\n",
              "      <td>32</td>\n",
              "      <td>15.24793</td>\n",
              "      <td>37.28810</td>\n",
              "      <td>341</td>\n",
              "      <td>511</td>\n",
              "      <td>01-06-15 0:06</td>\n",
              "      <td>AUGUSTA</td>\n",
              "      <td>2015-01-06 00:06:00</td>\n",
              "    </tr>\n",
              "    <tr>\n",
              "      <th>39</th>\n",
              "      <td>0x3b62baab6210a8e69d3e7f9df53d000c83d00fd0</td>\n",
              "      <td>1</td>\n",
              "      <td>15.24707</td>\n",
              "      <td>37.28951</td>\n",
              "      <td>183</td>\n",
              "      <td>511</td>\n",
              "      <td>01-06-15 0:09</td>\n",
              "      <td>AUGUSTA</td>\n",
              "      <td>2015-01-06 00:09:00</td>\n",
              "    </tr>\n",
              "    <tr>\n",
              "      <th>...</th>\n",
              "      <td>...</td>\n",
              "      <td>...</td>\n",
              "      <td>...</td>\n",
              "      <td>...</td>\n",
              "      <td>...</td>\n",
              "      <td>...</td>\n",
              "      <td>...</td>\n",
              "      <td>...</td>\n",
              "      <td>...</td>\n",
              "    </tr>\n",
              "    <tr>\n",
              "      <th>820</th>\n",
              "      <td>0x3b62baab6210a8e69d3e7f9df53d000c83d00fd0</td>\n",
              "      <td>9</td>\n",
              "      <td>15.13002</td>\n",
              "      <td>37.51002</td>\n",
              "      <td>337</td>\n",
              "      <td>511</td>\n",
              "      <td>01-06-15 3:46</td>\n",
              "      <td>AUGUSTA</td>\n",
              "      <td>2015-01-06 03:46:00</td>\n",
              "    </tr>\n",
              "    <tr>\n",
              "      <th>829</th>\n",
              "      <td>0x3b62baab6210a8e69d3e7f9df53d000c83d00fd0</td>\n",
              "      <td>91</td>\n",
              "      <td>15.12757</td>\n",
              "      <td>37.51467</td>\n",
              "      <td>336</td>\n",
              "      <td>511</td>\n",
              "      <td>01-06-15 3:48</td>\n",
              "      <td>AUGUSTA</td>\n",
              "      <td>2015-01-06 03:48:00</td>\n",
              "    </tr>\n",
              "    <tr>\n",
              "      <th>841</th>\n",
              "      <td>0x3b62baab6210a8e69d3e7f9df53d000c83d00fd0</td>\n",
              "      <td>93</td>\n",
              "      <td>15.12394</td>\n",
              "      <td>37.52092</td>\n",
              "      <td>334</td>\n",
              "      <td>511</td>\n",
              "      <td>01-06-15 3:50</td>\n",
              "      <td>AUGUSTA</td>\n",
              "      <td>2015-01-06 03:50:00</td>\n",
              "    </tr>\n",
              "    <tr>\n",
              "      <th>853</th>\n",
              "      <td>0x3b62baab6210a8e69d3e7f9df53d000c83d00fd0</td>\n",
              "      <td>92</td>\n",
              "      <td>15.11986</td>\n",
              "      <td>37.52797</td>\n",
              "      <td>330</td>\n",
              "      <td>511</td>\n",
              "      <td>01-06-15 3:53</td>\n",
              "      <td>AUGUSTA</td>\n",
              "      <td>2015-01-06 03:53:00</td>\n",
              "    </tr>\n",
              "    <tr>\n",
              "      <th>868</th>\n",
              "      <td>0x3b62baab6210a8e69d3e7f9df53d000c83d00fd0</td>\n",
              "      <td>32</td>\n",
              "      <td>15.11415</td>\n",
              "      <td>37.53028</td>\n",
              "      <td>190</td>\n",
              "      <td>511</td>\n",
              "      <td>01-06-15 3:56</td>\n",
              "      <td>AUGUSTA</td>\n",
              "      <td>2015-01-06 03:56:00</td>\n",
              "    </tr>\n",
              "  </tbody>\n",
              "</table>\n",
              "<p>82 rows × 9 columns</p>\n",
              "</div>"
            ],
            "text/plain": [
              "                                        SHIP_ID  ...                time\n",
              "0    0x3b62baab6210a8e69d3e7f9df53d000c83d00fd0  ... 2015-01-06 00:00:00\n",
              "9    0x3b62baab6210a8e69d3e7f9df53d000c83d00fd0  ... 2015-01-06 00:02:00\n",
              "17   0x3b62baab6210a8e69d3e7f9df53d000c83d00fd0  ... 2015-01-06 00:04:00\n",
              "22   0x3b62baab6210a8e69d3e7f9df53d000c83d00fd0  ... 2015-01-06 00:06:00\n",
              "39   0x3b62baab6210a8e69d3e7f9df53d000c83d00fd0  ... 2015-01-06 00:09:00\n",
              "..                                          ...  ...                 ...\n",
              "820  0x3b62baab6210a8e69d3e7f9df53d000c83d00fd0  ... 2015-01-06 03:46:00\n",
              "829  0x3b62baab6210a8e69d3e7f9df53d000c83d00fd0  ... 2015-01-06 03:48:00\n",
              "841  0x3b62baab6210a8e69d3e7f9df53d000c83d00fd0  ... 2015-01-06 03:50:00\n",
              "853  0x3b62baab6210a8e69d3e7f9df53d000c83d00fd0  ... 2015-01-06 03:53:00\n",
              "868  0x3b62baab6210a8e69d3e7f9df53d000c83d00fd0  ... 2015-01-06 03:56:00\n",
              "\n",
              "[82 rows x 9 columns]"
            ]
          },
          "metadata": {
            "tags": []
          },
          "execution_count": 9
        }
      ]
    },
    {
      "cell_type": "code",
      "metadata": {
        "id": "nIVJvbFsVuZG",
        "colab": {
          "base_uri": "https://localhost:8080/",
          "height": 417
        },
        "outputId": "c67f81c0-fec6-47df-ec32-57d661ec5973"
      },
      "source": [
        "x = x.reset_index()\n",
        "x"
      ],
      "execution_count": null,
      "outputs": [
        {
          "output_type": "execute_result",
          "data": {
            "text/html": [
              "<div>\n",
              "<style scoped>\n",
              "    .dataframe tbody tr th:only-of-type {\n",
              "        vertical-align: middle;\n",
              "    }\n",
              "\n",
              "    .dataframe tbody tr th {\n",
              "        vertical-align: top;\n",
              "    }\n",
              "\n",
              "    .dataframe thead th {\n",
              "        text-align: right;\n",
              "    }\n",
              "</style>\n",
              "<table border=\"1\" class=\"dataframe\">\n",
              "  <thead>\n",
              "    <tr style=\"text-align: right;\">\n",
              "      <th></th>\n",
              "      <th>index</th>\n",
              "      <th>SHIP_ID</th>\n",
              "      <th>SPEED</th>\n",
              "      <th>LON</th>\n",
              "      <th>LAT</th>\n",
              "      <th>COURSE</th>\n",
              "      <th>HEADING</th>\n",
              "      <th>TIMESTAMP</th>\n",
              "      <th>Departure_Port_Name</th>\n",
              "      <th>time</th>\n",
              "    </tr>\n",
              "  </thead>\n",
              "  <tbody>\n",
              "    <tr>\n",
              "      <th>0</th>\n",
              "      <td>0</td>\n",
              "      <td>0x3b62baab6210a8e69d3e7f9df53d000c83d00fd0</td>\n",
              "      <td>2</td>\n",
              "      <td>15.24722</td>\n",
              "      <td>37.28777</td>\n",
              "      <td>163</td>\n",
              "      <td>511</td>\n",
              "      <td>01-06-15 0:00</td>\n",
              "      <td>AUGUSTA</td>\n",
              "      <td>2015-01-06 00:00:00</td>\n",
              "    </tr>\n",
              "    <tr>\n",
              "      <th>1</th>\n",
              "      <td>9</td>\n",
              "      <td>0x3b62baab6210a8e69d3e7f9df53d000c83d00fd0</td>\n",
              "      <td>1</td>\n",
              "      <td>15.24808</td>\n",
              "      <td>37.28734</td>\n",
              "      <td>72</td>\n",
              "      <td>511</td>\n",
              "      <td>01-06-15 0:02</td>\n",
              "      <td>AUGUSTA</td>\n",
              "      <td>2015-01-06 00:02:00</td>\n",
              "    </tr>\n",
              "    <tr>\n",
              "      <th>2</th>\n",
              "      <td>17</td>\n",
              "      <td>0x3b62baab6210a8e69d3e7f9df53d000c83d00fd0</td>\n",
              "      <td>4</td>\n",
              "      <td>15.24819</td>\n",
              "      <td>37.28753</td>\n",
              "      <td>329</td>\n",
              "      <td>511</td>\n",
              "      <td>01-06-15 0:04</td>\n",
              "      <td>AUGUSTA</td>\n",
              "      <td>2015-01-06 00:04:00</td>\n",
              "    </tr>\n",
              "    <tr>\n",
              "      <th>3</th>\n",
              "      <td>22</td>\n",
              "      <td>0x3b62baab6210a8e69d3e7f9df53d000c83d00fd0</td>\n",
              "      <td>32</td>\n",
              "      <td>15.24793</td>\n",
              "      <td>37.28810</td>\n",
              "      <td>341</td>\n",
              "      <td>511</td>\n",
              "      <td>01-06-15 0:06</td>\n",
              "      <td>AUGUSTA</td>\n",
              "      <td>2015-01-06 00:06:00</td>\n",
              "    </tr>\n",
              "    <tr>\n",
              "      <th>4</th>\n",
              "      <td>39</td>\n",
              "      <td>0x3b62baab6210a8e69d3e7f9df53d000c83d00fd0</td>\n",
              "      <td>1</td>\n",
              "      <td>15.24707</td>\n",
              "      <td>37.28951</td>\n",
              "      <td>183</td>\n",
              "      <td>511</td>\n",
              "      <td>01-06-15 0:09</td>\n",
              "      <td>AUGUSTA</td>\n",
              "      <td>2015-01-06 00:09:00</td>\n",
              "    </tr>\n",
              "    <tr>\n",
              "      <th>...</th>\n",
              "      <td>...</td>\n",
              "      <td>...</td>\n",
              "      <td>...</td>\n",
              "      <td>...</td>\n",
              "      <td>...</td>\n",
              "      <td>...</td>\n",
              "      <td>...</td>\n",
              "      <td>...</td>\n",
              "      <td>...</td>\n",
              "      <td>...</td>\n",
              "    </tr>\n",
              "    <tr>\n",
              "      <th>77</th>\n",
              "      <td>820</td>\n",
              "      <td>0x3b62baab6210a8e69d3e7f9df53d000c83d00fd0</td>\n",
              "      <td>9</td>\n",
              "      <td>15.13002</td>\n",
              "      <td>37.51002</td>\n",
              "      <td>337</td>\n",
              "      <td>511</td>\n",
              "      <td>01-06-15 3:46</td>\n",
              "      <td>AUGUSTA</td>\n",
              "      <td>2015-01-06 03:46:00</td>\n",
              "    </tr>\n",
              "    <tr>\n",
              "      <th>78</th>\n",
              "      <td>829</td>\n",
              "      <td>0x3b62baab6210a8e69d3e7f9df53d000c83d00fd0</td>\n",
              "      <td>91</td>\n",
              "      <td>15.12757</td>\n",
              "      <td>37.51467</td>\n",
              "      <td>336</td>\n",
              "      <td>511</td>\n",
              "      <td>01-06-15 3:48</td>\n",
              "      <td>AUGUSTA</td>\n",
              "      <td>2015-01-06 03:48:00</td>\n",
              "    </tr>\n",
              "    <tr>\n",
              "      <th>79</th>\n",
              "      <td>841</td>\n",
              "      <td>0x3b62baab6210a8e69d3e7f9df53d000c83d00fd0</td>\n",
              "      <td>93</td>\n",
              "      <td>15.12394</td>\n",
              "      <td>37.52092</td>\n",
              "      <td>334</td>\n",
              "      <td>511</td>\n",
              "      <td>01-06-15 3:50</td>\n",
              "      <td>AUGUSTA</td>\n",
              "      <td>2015-01-06 03:50:00</td>\n",
              "    </tr>\n",
              "    <tr>\n",
              "      <th>80</th>\n",
              "      <td>853</td>\n",
              "      <td>0x3b62baab6210a8e69d3e7f9df53d000c83d00fd0</td>\n",
              "      <td>92</td>\n",
              "      <td>15.11986</td>\n",
              "      <td>37.52797</td>\n",
              "      <td>330</td>\n",
              "      <td>511</td>\n",
              "      <td>01-06-15 3:53</td>\n",
              "      <td>AUGUSTA</td>\n",
              "      <td>2015-01-06 03:53:00</td>\n",
              "    </tr>\n",
              "    <tr>\n",
              "      <th>81</th>\n",
              "      <td>868</td>\n",
              "      <td>0x3b62baab6210a8e69d3e7f9df53d000c83d00fd0</td>\n",
              "      <td>32</td>\n",
              "      <td>15.11415</td>\n",
              "      <td>37.53028</td>\n",
              "      <td>190</td>\n",
              "      <td>511</td>\n",
              "      <td>01-06-15 3:56</td>\n",
              "      <td>AUGUSTA</td>\n",
              "      <td>2015-01-06 03:56:00</td>\n",
              "    </tr>\n",
              "  </tbody>\n",
              "</table>\n",
              "<p>82 rows × 10 columns</p>\n",
              "</div>"
            ],
            "text/plain": [
              "    index  ...                time\n",
              "0       0  ... 2015-01-06 00:00:00\n",
              "1       9  ... 2015-01-06 00:02:00\n",
              "2      17  ... 2015-01-06 00:04:00\n",
              "3      22  ... 2015-01-06 00:06:00\n",
              "4      39  ... 2015-01-06 00:09:00\n",
              "..    ...  ...                 ...\n",
              "77    820  ... 2015-01-06 03:46:00\n",
              "78    829  ... 2015-01-06 03:48:00\n",
              "79    841  ... 2015-01-06 03:50:00\n",
              "80    853  ... 2015-01-06 03:53:00\n",
              "81    868  ... 2015-01-06 03:56:00\n",
              "\n",
              "[82 rows x 10 columns]"
            ]
          },
          "metadata": {
            "tags": []
          },
          "execution_count": 10
        }
      ]
    },
    {
      "cell_type": "code",
      "metadata": {
        "id": "shCW7BxnVuZH"
      },
      "source": [
        "k = []\n",
        "for i in x.index:\n",
        "    l = x.time[i] - x.time[0]\n",
        "    k.append(l)\n"
      ],
      "execution_count": null,
      "outputs": []
    },
    {
      "cell_type": "code",
      "metadata": {
        "id": "esoqMx6ZVuZI"
      },
      "source": [
        "x['duration'] = k"
      ],
      "execution_count": null,
      "outputs": []
    },
    {
      "cell_type": "code",
      "metadata": {
        "id": "Ku7uXz7rVuZI"
      },
      "source": [
        "for j in df.SHIP_ID:\n",
        "    \n",
        "    xx = df[df['SHIP_ID']== j]\n",
        "    xx = xx.reset_index()\n",
        "  #  xx['duration'] = \"\"\n",
        "    k = []\n",
        "    for i in xx.index:\n",
        "        l = xx.time[i] - xx.time[0]\n",
        "        k.append(l)\n",
        "    xx['duration'] = k\n",
        "\n",
        "    x = x.append(xx)"
      ],
      "execution_count": null,
      "outputs": []
    },
    {
      "cell_type": "code",
      "metadata": {
        "id": "_9SywGDaVuZJ",
        "colab": {
          "base_uri": "https://localhost:8080/"
        },
        "outputId": "3fe485af-b40f-4730-d65f-c26c97f2cee1"
      },
      "source": [
        "x.shape"
      ],
      "execution_count": null,
      "outputs": [
        {
          "output_type": "execute_result",
          "data": {
            "text/plain": [
              "(49308, 11)"
            ]
          },
          "metadata": {
            "tags": []
          },
          "execution_count": 14
        }
      ]
    },
    {
      "cell_type": "code",
      "metadata": {
        "id": "ezzWM0vRVuZK"
      },
      "source": [
        "x1 = x.drop_duplicates()"
      ],
      "execution_count": null,
      "outputs": []
    },
    {
      "cell_type": "code",
      "metadata": {
        "id": "jAm9fJrSVuZL",
        "colab": {
          "base_uri": "https://localhost:8080/"
        },
        "outputId": "271cb920-a923-4ff3-d332-bd5032411e67"
      },
      "source": [
        "x1.shape"
      ],
      "execution_count": null,
      "outputs": [
        {
          "output_type": "execute_result",
          "data": {
            "text/plain": [
              "(1000, 11)"
            ]
          },
          "metadata": {
            "tags": []
          },
          "execution_count": 16
        }
      ]
    },
    {
      "cell_type": "code",
      "metadata": {
        "id": "gvHKm08EVuZO"
      },
      "source": [
        "import time \n",
        "import datetime\n",
        "\n",
        "def timestampConv(x):\n",
        "  return(time.mktime(datetime.datetime.strptime(x, \"%d-%m-%y %H:%M\").timetuple()))"
      ],
      "execution_count": null,
      "outputs": []
    },
    {
      "cell_type": "code",
      "metadata": {
        "id": "h8bi8sOwVuZO",
        "colab": {
          "base_uri": "https://localhost:8080/"
        },
        "outputId": "b15ae66f-1c9d-422c-d2f0-060840245ce6"
      },
      "source": [
        "x1[\"timestamp_v1\"]=x1[\"TIMESTAMP\"].apply(lambda x:timestampConv(x))"
      ],
      "execution_count": null,
      "outputs": [
        {
          "output_type": "stream",
          "text": [
            "/usr/local/lib/python3.7/dist-packages/ipykernel_launcher.py:1: SettingWithCopyWarning: \n",
            "A value is trying to be set on a copy of a slice from a DataFrame.\n",
            "Try using .loc[row_indexer,col_indexer] = value instead\n",
            "\n",
            "See the caveats in the documentation: https://pandas.pydata.org/pandas-docs/stable/user_guide/indexing.html#returning-a-view-versus-a-copy\n",
            "  \"\"\"Entry point for launching an IPython kernel.\n"
          ],
          "name": "stderr"
        }
      ]
    },
    {
      "cell_type": "code",
      "metadata": {
        "id": "NGqOX0T9VuZM"
      },
      "source": [
        "from sklearn.preprocessing import LabelEncoder\n",
        "label_encoder = LabelEncoder()"
      ],
      "execution_count": null,
      "outputs": []
    },
    {
      "cell_type": "code",
      "metadata": {
        "id": "GaWAeX_kVuZN",
        "colab": {
          "base_uri": "https://localhost:8080/"
        },
        "outputId": "5de5429d-8373-4230-dac8-4df13b80f878"
      },
      "source": [
        "x1['portNameEnc']= label_encoder.fit_transform(x1['Departure_Port_Name'])\n",
        "x1['shipID'] = label_encoder.fit_transform(x1['SHIP_ID'])"
      ],
      "execution_count": null,
      "outputs": [
        {
          "output_type": "stream",
          "text": [
            "/usr/local/lib/python3.7/dist-packages/ipykernel_launcher.py:1: SettingWithCopyWarning: \n",
            "A value is trying to be set on a copy of a slice from a DataFrame.\n",
            "Try using .loc[row_indexer,col_indexer] = value instead\n",
            "\n",
            "See the caveats in the documentation: https://pandas.pydata.org/pandas-docs/stable/user_guide/indexing.html#returning-a-view-versus-a-copy\n",
            "  \"\"\"Entry point for launching an IPython kernel.\n",
            "/usr/local/lib/python3.7/dist-packages/ipykernel_launcher.py:2: SettingWithCopyWarning: \n",
            "A value is trying to be set on a copy of a slice from a DataFrame.\n",
            "Try using .loc[row_indexer,col_indexer] = value instead\n",
            "\n",
            "See the caveats in the documentation: https://pandas.pydata.org/pandas-docs/stable/user_guide/indexing.html#returning-a-view-versus-a-copy\n",
            "  \n"
          ],
          "name": "stderr"
        }
      ]
    },
    {
      "cell_type": "code",
      "metadata": {
        "id": "lQp0fdN6VuZQ",
        "colab": {
          "base_uri": "https://localhost:8080/"
        },
        "outputId": "11f1952d-7840-441d-cb0f-462fcd641efa"
      },
      "source": [
        "x1.columns"
      ],
      "execution_count": null,
      "outputs": [
        {
          "output_type": "execute_result",
          "data": {
            "text/plain": [
              "Index(['index', 'SHIP_ID', 'SPEED', 'LON', 'LAT', 'COURSE', 'HEADING',\n",
              "       'TIMESTAMP', 'Departure_Port_Name', 'time', 'duration', 'timestamp_v1',\n",
              "       'portNameEnc', 'shipID'],\n",
              "      dtype='object')"
            ]
          },
          "metadata": {
            "tags": []
          },
          "execution_count": 21
        }
      ]
    },
    {
      "cell_type": "code",
      "metadata": {
        "id": "fB8Dz8gdHv7A"
      },
      "source": [
        ""
      ],
      "execution_count": null,
      "outputs": []
    },
    {
      "cell_type": "code",
      "metadata": {
        "id": "TEHKslMGVuZQ",
        "colab": {
          "base_uri": "https://localhost:8080/"
        },
        "outputId": "c60d5e59-73ca-4a44-a9ec-5fd0a199f15d"
      },
      "source": [
        "x2 = x1[x1['SHIP_ID']==df.SHIP_ID[1]]\n",
        "x2.shape"
      ],
      "execution_count": null,
      "outputs": [
        {
          "output_type": "execute_result",
          "data": {
            "text/plain": [
              "(110, 14)"
            ]
          },
          "metadata": {
            "tags": []
          },
          "execution_count": 22
        }
      ]
    },
    {
      "cell_type": "code",
      "metadata": {
        "id": "iRRxFcKZVuZR"
      },
      "source": [
        "X = x2[[ 'SPEED', 'LON', 'LAT',  'HEADING',\n",
        "       'portNameEnc', 'COURSE']]\n",
        "y = x2['duration']\n",
        "y = y.apply(lambda x:x.total_seconds())"
      ],
      "execution_count": null,
      "outputs": []
    },
    {
      "cell_type": "code",
      "metadata": {
        "id": "OIBzfcWTVuZL"
      },
      "source": [
        "import numpy as np\n",
        "from keras.layers import Dense, Activation\n",
        "from keras.models import Sequential\n",
        "from sklearn.model_selection import train_test_split\n",
        "import matplotlib.pyplot as plt"
      ],
      "execution_count": null,
      "outputs": []
    },
    {
      "cell_type": "code",
      "metadata": {
        "id": "ysoFIPiQVuZS"
      },
      "source": [
        "X_train, X_test, y_train, y_test = train_test_split(X, y, test_size = 0.08, random_state = 0)"
      ],
      "execution_count": null,
      "outputs": []
    },
    {
      "cell_type": "code",
      "metadata": {
        "id": "M1baKzxmVuZS"
      },
      "source": [
        "# Feature Scaling\n",
        "from sklearn.preprocessing import StandardScaler\n",
        "sc = StandardScaler()\n",
        "X_train = sc.fit_transform(X_train)\n",
        "X_test = sc.transform(X_test)"
      ],
      "execution_count": null,
      "outputs": []
    },
    {
      "cell_type": "code",
      "metadata": {
        "id": "rDdfR0FLVuZT"
      },
      "source": [
        "model = Sequential()\n",
        "\n",
        "# input layer and the first hidden layer\n",
        "model.add(Dense(32, activation = 'relu', input_dim = 6))\n",
        "\n",
        "# second hidden layer\n",
        "model.add(Dense(units = 32, activation = 'relu'))\n",
        "\n",
        "# third hidden layer\n",
        "model.add(Dense(units = 32, activation = 'relu'))\n",
        "\n",
        "# output layer\n",
        "model.add(Dense(units = 1))\n",
        "\n",
        "model.compile(optimizer = 'adam', loss = 'mean_squared_error',metrics=['mse'])"
      ],
      "execution_count": null,
      "outputs": []
    },
    {
      "cell_type": "code",
      "metadata": {
        "id": "TkvNpukFVuZT",
        "colab": {
          "base_uri": "https://localhost:8080/"
        },
        "outputId": "1e289f75-e20c-4d6e-e0fd-04c135778aeb"
      },
      "source": [
        "strt=time.time()\n",
        "model.fit(X_train, y_train, batch_size = 10, epochs = 100)\n",
        "stp=time.time()\n",
        "print(\"Total time taken (in sec)\")\n",
        "stp-strt"
      ],
      "execution_count": null,
      "outputs": [
        {
          "output_type": "stream",
          "text": [
            "Epoch 1/100\n",
            "11/11 [==============================] - 14s 2ms/step - loss: 65688494.0000 - mse: 65688494.0000\n",
            "Epoch 2/100\n",
            "11/11 [==============================] - 0s 2ms/step - loss: 77247913.3333 - mse: 77247913.3333\n",
            "Epoch 3/100\n",
            "11/11 [==============================] - 0s 2ms/step - loss: 76701670.0000 - mse: 76701670.0000\n",
            "Epoch 4/100\n",
            "11/11 [==============================] - 0s 2ms/step - loss: 63203975.6667 - mse: 63203975.6667\n",
            "Epoch 5/100\n",
            "11/11 [==============================] - 0s 2ms/step - loss: 75207630.6667 - mse: 75207629.3333\n",
            "Epoch 6/100\n",
            "11/11 [==============================] - 0s 2ms/step - loss: 70182381.3333 - mse: 70182379.6667\n",
            "Epoch 7/100\n",
            "11/11 [==============================] - 0s 2ms/step - loss: 71778046.6667 - mse: 71778046.6667\n",
            "Epoch 8/100\n",
            "11/11 [==============================] - 0s 2ms/step - loss: 72908372.0000 - mse: 72908372.0000\n",
            "Epoch 9/100\n",
            "11/11 [==============================] - 0s 2ms/step - loss: 77803052.0000 - mse: 77803050.6667\n",
            "Epoch 10/100\n",
            "11/11 [==============================] - 0s 2ms/step - loss: 78802216.0000 - mse: 78802216.0000\n",
            "Epoch 11/100\n",
            "11/11 [==============================] - 0s 2ms/step - loss: 68761506.0000 - mse: 68761506.0000\n",
            "Epoch 12/100\n",
            "11/11 [==============================] - 0s 2ms/step - loss: 66016780.6667 - mse: 66016780.3333\n",
            "Epoch 13/100\n",
            "11/11 [==============================] - 0s 2ms/step - loss: 71520906.6667 - mse: 71520906.6667\n",
            "Epoch 14/100\n",
            "11/11 [==============================] - 0s 2ms/step - loss: 73174714.0000 - mse: 73174714.0000\n",
            "Epoch 15/100\n",
            "11/11 [==============================] - 0s 2ms/step - loss: 65153546.6667 - mse: 65153546.6667\n",
            "Epoch 16/100\n",
            "11/11 [==============================] - 0s 2ms/step - loss: 58203014.0000 - mse: 58203014.0000\n",
            "Epoch 17/100\n",
            "11/11 [==============================] - 0s 2ms/step - loss: 66757911.0000 - mse: 66757911.0000\n",
            "Epoch 18/100\n",
            "11/11 [==============================] - 0s 3ms/step - loss: 63062897.3333 - mse: 63062896.6667\n",
            "Epoch 19/100\n",
            "11/11 [==============================] - 0s 2ms/step - loss: 67962486.0000 - mse: 67962486.0000\n",
            "Epoch 20/100\n",
            "11/11 [==============================] - 0s 2ms/step - loss: 56922541.6667 - mse: 56922542.3333\n",
            "Epoch 21/100\n",
            "11/11 [==============================] - 0s 2ms/step - loss: 59616409.0000 - mse: 59616409.0000\n",
            "Epoch 22/100\n",
            "11/11 [==============================] - 0s 2ms/step - loss: 45734380.0000 - mse: 45734380.0000\n",
            "Epoch 23/100\n",
            "11/11 [==============================] - 0s 2ms/step - loss: 49988863.0000 - mse: 49988863.0000\n",
            "Epoch 24/100\n",
            "11/11 [==============================] - 0s 2ms/step - loss: 42403081.0000 - mse: 42403081.0000\n",
            "Epoch 25/100\n",
            "11/11 [==============================] - 0s 2ms/step - loss: 41579808.0000 - mse: 41579808.0000\n",
            "Epoch 26/100\n",
            "11/11 [==============================] - 0s 2ms/step - loss: 39799459.5000 - mse: 39799459.5000\n",
            "Epoch 27/100\n",
            "11/11 [==============================] - 0s 3ms/step - loss: 30068706.0000 - mse: 30068705.6667\n",
            "Epoch 28/100\n",
            "11/11 [==============================] - 0s 2ms/step - loss: 20381766.9167 - mse: 20381766.9167\n",
            "Epoch 29/100\n",
            "11/11 [==============================] - 0s 2ms/step - loss: 18553726.2500 - mse: 18553726.0000\n",
            "Epoch 30/100\n",
            "11/11 [==============================] - 0s 2ms/step - loss: 17317984.1667 - mse: 17317984.1667\n",
            "Epoch 31/100\n",
            "11/11 [==============================] - 0s 2ms/step - loss: 10323509.5417 - mse: 10323509.1250\n",
            "Epoch 32/100\n",
            "11/11 [==============================] - 0s 2ms/step - loss: 8726587.1250 - mse: 8726587.1250\n",
            "Epoch 33/100\n",
            "11/11 [==============================] - 0s 2ms/step - loss: 7522373.6667 - mse: 7522373.6667\n",
            "Epoch 34/100\n",
            "11/11 [==============================] - 0s 2ms/step - loss: 5488389.3333 - mse: 5488389.3750\n",
            "Epoch 35/100\n",
            "11/11 [==============================] - 0s 2ms/step - loss: 2889290.0208 - mse: 2889290.0208\n",
            "Epoch 36/100\n",
            "11/11 [==============================] - 0s 2ms/step - loss: 2385201.1875 - mse: 2385201.1875\n",
            "Epoch 37/100\n",
            "11/11 [==============================] - 0s 2ms/step - loss: 1818414.2188 - mse: 1818414.2188\n",
            "Epoch 38/100\n",
            "11/11 [==============================] - 0s 3ms/step - loss: 1684254.6146 - mse: 1684254.6146\n",
            "Epoch 39/100\n",
            "11/11 [==============================] - 0s 3ms/step - loss: 1689889.5885 - mse: 1689889.4635\n",
            "Epoch 40/100\n",
            "11/11 [==============================] - 0s 4ms/step - loss: 1643965.2812 - mse: 1643965.2812\n",
            "Epoch 41/100\n",
            "11/11 [==============================] - 0s 2ms/step - loss: 1104550.6771 - mse: 1104550.7396\n",
            "Epoch 42/100\n",
            "11/11 [==============================] - 0s 2ms/step - loss: 1739841.2812 - mse: 1739841.2812\n",
            "Epoch 43/100\n",
            "11/11 [==============================] - 0s 2ms/step - loss: 1909514.3438 - mse: 1909514.3229\n",
            "Epoch 44/100\n",
            "11/11 [==============================] - 0s 3ms/step - loss: 1643025.5781 - mse: 1643025.5781\n",
            "Epoch 45/100\n",
            "11/11 [==============================] - 0s 2ms/step - loss: 1986424.5104 - mse: 1986424.5312\n",
            "Epoch 46/100\n",
            "11/11 [==============================] - 0s 2ms/step - loss: 1345183.1562 - mse: 1345183.1562\n",
            "Epoch 47/100\n",
            "11/11 [==============================] - 0s 2ms/step - loss: 1267786.2292 - mse: 1267786.2292\n",
            "Epoch 48/100\n",
            "11/11 [==============================] - 0s 2ms/step - loss: 1336893.8594 - mse: 1336893.9427\n",
            "Epoch 49/100\n",
            "11/11 [==============================] - 0s 2ms/step - loss: 1266579.9310 - mse: 1266579.9310\n",
            "Epoch 50/100\n",
            "11/11 [==============================] - 0s 2ms/step - loss: 2011515.8594 - mse: 2011515.8594\n",
            "Epoch 51/100\n",
            "11/11 [==============================] - 0s 2ms/step - loss: 1276693.1094 - mse: 1276693.1094\n",
            "Epoch 52/100\n",
            "11/11 [==============================] - 0s 2ms/step - loss: 1116027.8542 - mse: 1116027.8542\n",
            "Epoch 53/100\n",
            "11/11 [==============================] - 0s 3ms/step - loss: 2470469.9792 - mse: 2470469.9792\n",
            "Epoch 54/100\n",
            "11/11 [==============================] - 0s 2ms/step - loss: 1225393.5417 - mse: 1225393.5417\n",
            "Epoch 55/100\n",
            "11/11 [==============================] - 0s 2ms/step - loss: 2002018.8646 - mse: 2002018.8646\n",
            "Epoch 56/100\n",
            "11/11 [==============================] - 0s 2ms/step - loss: 1632309.2604 - mse: 1632309.2604\n",
            "Epoch 57/100\n",
            "11/11 [==============================] - 0s 2ms/step - loss: 1057069.5625 - mse: 1057069.5625\n",
            "Epoch 58/100\n",
            "11/11 [==============================] - 0s 3ms/step - loss: 1859588.8125 - mse: 1859588.8125\n",
            "Epoch 59/100\n",
            "11/11 [==============================] - 0s 2ms/step - loss: 1348372.7865 - mse: 1348372.8073\n",
            "Epoch 60/100\n",
            "11/11 [==============================] - 0s 3ms/step - loss: 1296533.1146 - mse: 1296533.1146\n",
            "Epoch 61/100\n",
            "11/11 [==============================] - 0s 3ms/step - loss: 1483925.1667 - mse: 1483925.1667\n",
            "Epoch 62/100\n",
            "11/11 [==============================] - 0s 2ms/step - loss: 1311609.9010 - mse: 1311609.9010\n",
            "Epoch 63/100\n",
            "11/11 [==============================] - 0s 3ms/step - loss: 1166706.9062 - mse: 1166706.9062\n",
            "Epoch 64/100\n",
            "11/11 [==============================] - 0s 2ms/step - loss: 812052.8854 - mse: 812052.8854\n",
            "Epoch 65/100\n",
            "11/11 [==============================] - 0s 2ms/step - loss: 966745.8542 - mse: 966745.8542\n",
            "Epoch 66/100\n",
            "11/11 [==============================] - 0s 2ms/step - loss: 1494157.0573 - mse: 1494156.9948\n",
            "Epoch 67/100\n",
            "11/11 [==============================] - 0s 2ms/step - loss: 1605254.7552 - mse: 1605254.7552\n",
            "Epoch 68/100\n",
            "11/11 [==============================] - 0s 2ms/step - loss: 1816479.8333 - mse: 1816479.8333\n",
            "Epoch 69/100\n",
            "11/11 [==============================] - 0s 2ms/step - loss: 1584940.1510 - mse: 1584940.1510\n",
            "Epoch 70/100\n",
            "11/11 [==============================] - 0s 2ms/step - loss: 1601212.0417 - mse: 1601212.0417\n",
            "Epoch 71/100\n",
            "11/11 [==============================] - 0s 2ms/step - loss: 1422709.0521 - mse: 1422709.0521\n",
            "Epoch 72/100\n",
            "11/11 [==============================] - 0s 2ms/step - loss: 1181523.9974 - mse: 1181523.9974\n",
            "Epoch 73/100\n",
            "11/11 [==============================] - 0s 3ms/step - loss: 910148.1211 - mse: 910148.1211\n",
            "Epoch 74/100\n",
            "11/11 [==============================] - 0s 2ms/step - loss: 1323570.8307 - mse: 1323570.8307\n",
            "Epoch 75/100\n",
            "11/11 [==============================] - 0s 2ms/step - loss: 888077.0104 - mse: 888077.0104\n",
            "Epoch 76/100\n",
            "11/11 [==============================] - 0s 2ms/step - loss: 1328163.5052 - mse: 1328163.5052\n",
            "Epoch 77/100\n",
            "11/11 [==============================] - 0s 3ms/step - loss: 1804743.6979 - mse: 1804743.6979\n",
            "Epoch 78/100\n",
            "11/11 [==============================] - 0s 2ms/step - loss: 1660460.1458 - mse: 1660460.1458\n",
            "Epoch 79/100\n",
            "11/11 [==============================] - 0s 2ms/step - loss: 1142918.5990 - mse: 1142918.6042\n",
            "Epoch 80/100\n",
            "11/11 [==============================] - 0s 2ms/step - loss: 1697410.2083 - mse: 1697410.1979\n",
            "Epoch 81/100\n",
            "11/11 [==============================] - 0s 2ms/step - loss: 1007657.5443 - mse: 1007657.5443\n",
            "Epoch 82/100\n",
            "11/11 [==============================] - 0s 3ms/step - loss: 1597323.3359 - mse: 1597323.3359\n",
            "Epoch 83/100\n",
            "11/11 [==============================] - 0s 3ms/step - loss: 1691620.8438 - mse: 1691620.8438\n",
            "Epoch 84/100\n",
            "11/11 [==============================] - 0s 2ms/step - loss: 1134913.6302 - mse: 1134913.6302\n",
            "Epoch 85/100\n",
            "11/11 [==============================] - 0s 2ms/step - loss: 896143.1146 - mse: 896143.1068\n",
            "Epoch 86/100\n",
            "11/11 [==============================] - 0s 4ms/step - loss: 1456983.2969 - mse: 1456983.2969\n",
            "Epoch 87/100\n",
            "11/11 [==============================] - 0s 2ms/step - loss: 1057255.6771 - mse: 1057255.6771\n",
            "Epoch 88/100\n",
            "11/11 [==============================] - 0s 3ms/step - loss: 735706.2734 - mse: 735706.2760\n",
            "Epoch 89/100\n",
            "11/11 [==============================] - 0s 2ms/step - loss: 1017586.9219 - mse: 1017586.9219\n",
            "Epoch 90/100\n",
            "11/11 [==============================] - 0s 2ms/step - loss: 1002460.7031 - mse: 1002460.7031\n",
            "Epoch 91/100\n",
            "11/11 [==============================] - 0s 3ms/step - loss: 1567405.8438 - mse: 1567405.7917\n",
            "Epoch 92/100\n",
            "11/11 [==============================] - 0s 2ms/step - loss: 902171.8438 - mse: 902171.8438\n",
            "Epoch 93/100\n",
            "11/11 [==============================] - 0s 2ms/step - loss: 651975.1120 - mse: 651975.1120\n",
            "Epoch 94/100\n",
            "11/11 [==============================] - 0s 2ms/step - loss: 1142953.3932 - mse: 1142953.3932\n",
            "Epoch 95/100\n",
            "11/11 [==============================] - 0s 2ms/step - loss: 736724.0104 - mse: 736723.9792\n",
            "Epoch 96/100\n",
            "11/11 [==============================] - 0s 2ms/step - loss: 641916.4115 - mse: 641916.4115\n",
            "Epoch 97/100\n",
            "11/11 [==============================] - 0s 2ms/step - loss: 1488876.2708 - mse: 1488876.2708\n",
            "Epoch 98/100\n",
            "11/11 [==============================] - 0s 2ms/step - loss: 1142563.8594 - mse: 1142563.7708\n",
            "Epoch 99/100\n",
            "11/11 [==============================] - 0s 2ms/step - loss: 1090732.2891 - mse: 1090732.2891\n",
            "Epoch 100/100\n",
            "11/11 [==============================] - 0s 2ms/step - loss: 1115621.6823 - mse: 1115621.6823\n",
            "Total time taken (in sec)\n"
          ],
          "name": "stdout"
        },
        {
          "output_type": "execute_result",
          "data": {
            "text/plain": [
              "17.001601696014404"
            ]
          },
          "metadata": {
            "tags": []
          },
          "execution_count": 28
        }
      ]
    },
    {
      "cell_type": "code",
      "metadata": {
        "colab": {
          "base_uri": "https://localhost:8080/"
        },
        "id": "CkpgyDFcLkuC",
        "outputId": "99b103e5-666a-4ebf-d06b-4e9f8394c9a4"
      },
      "source": [
        "model.summary()"
      ],
      "execution_count": null,
      "outputs": [
        {
          "output_type": "stream",
          "text": [
            "Model: \"sequential\"\n",
            "_________________________________________________________________\n",
            "Layer (type)                 Output Shape              Param #   \n",
            "=================================================================\n",
            "dense (Dense)                (None, 32)                224       \n",
            "_________________________________________________________________\n",
            "dense_1 (Dense)              (None, 32)                1056      \n",
            "_________________________________________________________________\n",
            "dense_2 (Dense)              (None, 32)                1056      \n",
            "_________________________________________________________________\n",
            "dense_3 (Dense)              (None, 1)                 33        \n",
            "=================================================================\n",
            "Total params: 2,369\n",
            "Trainable params: 2,369\n",
            "Non-trainable params: 0\n",
            "_________________________________________________________________\n"
          ],
          "name": "stdout"
        }
      ]
    },
    {
      "cell_type": "code",
      "metadata": {
        "id": "Ai6TKAvyVuZV"
      },
      "source": [
        "y_pred = model.predict(X_test)"
      ],
      "execution_count": null,
      "outputs": []
    },
    {
      "cell_type": "code",
      "metadata": {
        "colab": {
          "base_uri": "https://localhost:8080/",
          "height": 281
        },
        "id": "X30Dt2jYOErz",
        "outputId": "e2f928e9-1d71-445c-ea6b-4818899ebd43"
      },
      "source": [
        "plt.plot(y_test, color = 'red', label = 'Real data')\n",
        "plt.plot(y_pred, color = 'blue', label = 'Predicted data')\n",
        "plt.title('Prediction')\n",
        "plt.legend()\n",
        "plt.show()"
      ],
      "execution_count": null,
      "outputs": [
        {
          "output_type": "display_data",
          "data": {
            "image/png": "[encoded data removed]",
            "text/plain": [
              "<Figure size 432x288 with 1 Axes>"
            ]
          },
          "metadata": {
            "tags": [],
            "needs_background": "light"
          }
        }
      ]
    },
    {
      "cell_type": "code",
      "metadata": {
        "id": "2sIal-U7VuZW",
        "colab": {
          "base_uri": "https://localhost:8080/"
        },
        "outputId": "75d29005-b4b0-4f9a-e904-07a080511f97"
      },
      "source": [
        "y_pred"
      ],
      "execution_count": null,
      "outputs": [
        {
          "output_type": "execute_result",
          "data": {
            "text/plain": [
              "array([[11812.589 ],\n",
              "       [ 2048.6965],\n",
              "       [ 9948.849 ],\n",
              "       [ 1670.3448],\n",
              "       [ 1670.9501],\n",
              "       [13733.955 ],\n",
              "       [14284.007 ],\n",
              "       [ 1883.0764],\n",
              "       [ 2373.7878]], dtype=float32)"
            ]
          },
          "metadata": {
            "tags": []
          },
          "execution_count": 32
        }
      ]
    },
    {
      "cell_type": "code",
      "metadata": {
        "id": "lribSqWlVuZX",
        "colab": {
          "base_uri": "https://localhost:8080/"
        },
        "outputId": "4db4d071-3085-4dac-9f26-27ccea1999a3"
      },
      "source": [
        "#y_test= np.array(y_test)\n",
        "y_test\n"
      ],
      "execution_count": null,
      "outputs": [
        {
          "output_type": "execute_result",
          "data": {
            "text/plain": [
              "85     11520.0\n",
              "10      1380.0\n",
              "75     10020.0\n",
              "2        420.0\n",
              "24      3060.0\n",
              "101    13980.0\n",
              "109    15240.0\n",
              "7       1020.0\n",
              "16      2100.0\n",
              "Name: duration, dtype: float64"
            ]
          },
          "metadata": {
            "tags": []
          },
          "execution_count": 33
        }
      ]
    },
    {
      "cell_type": "code",
      "metadata": {
        "colab": {
          "base_uri": "https://localhost:8080/"
        },
        "id": "3D8JNtnqZZJP",
        "outputId": "56c57bab-4522-4e10-8c12-aecab8f737df"
      },
      "source": [
        "from sklearn.metrics import mean_squared_error\n",
        "mse = mean_squared_error(y_test, y_pred)\n",
        "round(mse/60)"
      ],
      "execution_count": null,
      "outputs": [
        {
          "output_type": "execute_result",
          "data": {
            "text/plain": [
              "10787"
            ]
          },
          "metadata": {
            "tags": []
          },
          "execution_count": 34
        }
      ]
    },
    {
      "cell_type": "code",
      "metadata": {
        "colab": {
          "base_uri": "https://localhost:8080/"
        },
        "id": "wdGkNe7acBUG",
        "outputId": "33fa4d8e-7224-483c-e93d-0307c32742f0"
      },
      "source": [
        "rmse=mean_squared_error(y_test, y_pred,squared=False)\n",
        "rmse\n",
        "round(rmse/60)"
      ],
      "execution_count": null,
      "outputs": [
        {
          "output_type": "execute_result",
          "data": {
            "text/plain": [
              "13"
            ]
          },
          "metadata": {
            "tags": []
          },
          "execution_count": 35
        }
      ]
    },
    {
      "cell_type": "code",
      "metadata": {
        "colab": {
          "base_uri": "https://localhost:8080/"
        },
        "id": "fyd1AY42dOvz",
        "outputId": "ed829368-e594-456a-bf2b-2ba47f0ac70d"
      },
      "source": [
        "from sklearn.metrics import mean_absolute_error\n",
        "mae=mean_absolute_error(y_test, y_pred)\n",
        "round(mae/60)"
      ],
      "execution_count": null,
      "outputs": [
        {
          "output_type": "execute_result",
          "data": {
            "text/plain": [
              "11"
            ]
          },
          "metadata": {
            "tags": []
          },
          "execution_count": 36
        }
      ]
    }
  ]
}